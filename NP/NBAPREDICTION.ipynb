{
 "cells": [
  {
   "cell_type": "code",
   "execution_count": 1,
   "id": "27735813",
   "metadata": {},
   "outputs": [],
   "source": [
    "import pandas as pd\n",
    "import numpy as np\n",
    "\n",
    "#plotting\n",
    "import seaborn as sns\n",
    "import matplotlib.pyplot as plt\n",
    "%matplotlib inline\n",
    "\n",
    "#model building\n",
    "from sklearn.model_selection import train_test_split\n",
    "from sklearn.compose import ColumnTransformer\n",
    "from sklearn.preprocessing import OneHotEncoder\n",
    "from sklearn.linear_model import LogisticRegression\n",
    "from sklearn.ensemble import RandomForestClassifier\n",
    "from sklearn.pipeline import Pipeline\n",
    "from sklearn import metrics"
   ]
  },
  {
   "cell_type": "code",
   "execution_count": 2,
   "id": "0f05955b",
   "metadata": {},
   "outputs": [
    {
     "data": {
      "text/html": [
       "<div>\n",
       "<style scoped>\n",
       "    .dataframe tbody tr th:only-of-type {\n",
       "        vertical-align: middle;\n",
       "    }\n",
       "\n",
       "    .dataframe tbody tr th {\n",
       "        vertical-align: top;\n",
       "    }\n",
       "\n",
       "    .dataframe thead th {\n",
       "        text-align: right;\n",
       "    }\n",
       "</style>\n",
       "<table border=\"1\" class=\"dataframe\">\n",
       "  <thead>\n",
       "    <tr style=\"text-align: right;\">\n",
       "      <th></th>\n",
       "      <th>GAME_ID</th>\n",
       "      <th>HOME_TEAM_ID</th>\n",
       "      <th>VISITOR_TEAM_ID</th>\n",
       "      <th>SEASON</th>\n",
       "      <th>PTS_home</th>\n",
       "      <th>AST_home</th>\n",
       "      <th>REB_home</th>\n",
       "      <th>PTS_away</th>\n",
       "      <th>AST_away</th>\n",
       "      <th>REB_away</th>\n",
       "      <th>HOME_TEAM_WINS</th>\n",
       "    </tr>\n",
       "  </thead>\n",
       "  <tbody>\n",
       "    <tr>\n",
       "      <th>0</th>\n",
       "      <td>22200477</td>\n",
       "      <td>1610612740</td>\n",
       "      <td>1610612759</td>\n",
       "      <td>2022</td>\n",
       "      <td>126.0</td>\n",
       "      <td>25.0</td>\n",
       "      <td>46.0</td>\n",
       "      <td>117.0</td>\n",
       "      <td>23.0</td>\n",
       "      <td>44.0</td>\n",
       "      <td>1</td>\n",
       "    </tr>\n",
       "    <tr>\n",
       "      <th>1</th>\n",
       "      <td>22200478</td>\n",
       "      <td>1610612762</td>\n",
       "      <td>1610612764</td>\n",
       "      <td>2022</td>\n",
       "      <td>120.0</td>\n",
       "      <td>16.0</td>\n",
       "      <td>40.0</td>\n",
       "      <td>112.0</td>\n",
       "      <td>20.0</td>\n",
       "      <td>37.0</td>\n",
       "      <td>1</td>\n",
       "    </tr>\n",
       "    <tr>\n",
       "      <th>2</th>\n",
       "      <td>22200466</td>\n",
       "      <td>1610612739</td>\n",
       "      <td>1610612749</td>\n",
       "      <td>2022</td>\n",
       "      <td>114.0</td>\n",
       "      <td>22.0</td>\n",
       "      <td>37.0</td>\n",
       "      <td>106.0</td>\n",
       "      <td>20.0</td>\n",
       "      <td>46.0</td>\n",
       "      <td>1</td>\n",
       "    </tr>\n",
       "    <tr>\n",
       "      <th>3</th>\n",
       "      <td>22200467</td>\n",
       "      <td>1610612755</td>\n",
       "      <td>1610612765</td>\n",
       "      <td>2022</td>\n",
       "      <td>113.0</td>\n",
       "      <td>27.0</td>\n",
       "      <td>49.0</td>\n",
       "      <td>93.0</td>\n",
       "      <td>15.0</td>\n",
       "      <td>46.0</td>\n",
       "      <td>1</td>\n",
       "    </tr>\n",
       "    <tr>\n",
       "      <th>4</th>\n",
       "      <td>22200468</td>\n",
       "      <td>1610612737</td>\n",
       "      <td>1610612741</td>\n",
       "      <td>2022</td>\n",
       "      <td>108.0</td>\n",
       "      <td>22.0</td>\n",
       "      <td>47.0</td>\n",
       "      <td>110.0</td>\n",
       "      <td>20.0</td>\n",
       "      <td>47.0</td>\n",
       "      <td>0</td>\n",
       "    </tr>\n",
       "  </tbody>\n",
       "</table>\n",
       "</div>"
      ],
      "text/plain": [
       "    GAME_ID  HOME_TEAM_ID  VISITOR_TEAM_ID  SEASON  PTS_home  AST_home  \\\n",
       "0  22200477    1610612740       1610612759    2022     126.0      25.0   \n",
       "1  22200478    1610612762       1610612764    2022     120.0      16.0   \n",
       "2  22200466    1610612739       1610612749    2022     114.0      22.0   \n",
       "3  22200467    1610612755       1610612765    2022     113.0      27.0   \n",
       "4  22200468    1610612737       1610612741    2022     108.0      22.0   \n",
       "\n",
       "   REB_home  PTS_away  AST_away  REB_away  HOME_TEAM_WINS  \n",
       "0      46.0     117.0      23.0      44.0               1  \n",
       "1      40.0     112.0      20.0      37.0               1  \n",
       "2      37.0     106.0      20.0      46.0               1  \n",
       "3      49.0      93.0      15.0      46.0               1  \n",
       "4      47.0     110.0      20.0      47.0               0  "
      ]
     },
     "execution_count": 2,
     "metadata": {},
     "output_type": "execute_result"
    }
   ],
   "source": [
    "matches_data = pd.read_csv('/Users/prathyushachelemella/Downloads/games.csv')\n",
    "\n",
    "columns_to_drop = ['GAME_DATE_EST', 'GAME_STATUS_TEXT', 'TEAM_ID_home', 'FG_PCT_home', 'FT_PCT_home', \n",
    "                   'FG3_PCT_home', 'TEAM_ID_away','FG_PCT_away', 'FT_PCT_away','FG3_PCT_away']\n",
    "\n",
    "matches_data = matches_data.drop(columns_to_drop, axis=1)\n",
    "matches_data.head()"
   ]
  },
  {
   "cell_type": "code",
   "execution_count": 3,
   "id": "997ae84e",
   "metadata": {},
   "outputs": [
    {
     "data": {
      "text/plain": [
       "(26651, 11)"
      ]
     },
     "execution_count": 3,
     "metadata": {},
     "output_type": "execute_result"
    }
   ],
   "source": [
    "matches_data.shape"
   ]
  },
  {
   "cell_type": "code",
   "execution_count": 4,
   "id": "882d59a1",
   "metadata": {},
   "outputs": [
    {
     "data": {
      "text/plain": [
       "Index(['GAME_ID', 'HOME_TEAM_ID', 'VISITOR_TEAM_ID', 'SEASON', 'PTS_home',\n",
       "       'AST_home', 'REB_home', 'PTS_away', 'AST_away', 'REB_away',\n",
       "       'HOME_TEAM_WINS'],\n",
       "      dtype='object')"
      ]
     },
     "execution_count": 4,
     "metadata": {},
     "output_type": "execute_result"
    }
   ],
   "source": [
    "matches_data.columns"
   ]
  },
  {
   "cell_type": "code",
   "execution_count": 5,
   "id": "1ce10f06",
   "metadata": {},
   "outputs": [
    {
     "data": {
      "text/plain": [
       "26651"
      ]
     },
     "execution_count": 5,
     "metadata": {},
     "output_type": "execute_result"
    }
   ],
   "source": [
    "len(matches_data)"
   ]
  },
  {
   "cell_type": "code",
   "execution_count": 6,
   "id": "406c7eb2",
   "metadata": {},
   "outputs": [
    {
     "name": "stdout",
     "output_type": "stream",
     "text": [
      "The unique values GAME_ID are:  [22200477 22200478 22200466 ... 11400005 11400002 11400001]\n",
      "The unique values HOME_TEAM_ID are:  [1610612740 1610612762 1610612739 1610612755 1610612737 1610612738\n",
      " 1610612751 1610612752 1610612745 1610612750 1610612760 1610612758\n",
      " 1610612746 1610612765 1610612748 1610612756 1610612743 1610612754\n",
      " 1610612761 1610612747 1610612759 1610612749 1610612766 1610612741\n",
      " 1610612742 1610612763 1610612753 1610612764 1610612757 1610612744]\n",
      "The unique values VISITOR_TEAM_ID are:  [1610612759 1610612764 1610612749 1610612765 1610612741 1610612754\n",
      " 1610612744 1610612761 1610612753 1610612742 1610612757 1610612747\n",
      " 1610612766 1610612762 1610612763 1610612752 1610612751 1610612748\n",
      " 1610612740 1610612737 1610612758 1610612750 1610612743 1610612756\n",
      " 1610612739 1610612738 1610612760 1610612746 1610612745 1610612755]\n",
      "The unique values SEASON are:  [2022 2021 2020 2019 2013 2012 2011 2010 2009 2008 2007 2006 2005 2004\n",
      " 2003 2018 2017 2016 2015 2014]\n",
      "The unique values PTS_home are:  [126. 120. 114. 113. 108. 112. 143. 106. 110.  99. 101. 134. 111. 103.\n",
      " 132. 105. 122. 104. 116. 119. 123. 130.  92. 121. 150. 102. 100.  95.\n",
      " 115. 118. 109.  91. 142. 125. 135.  90. 141. 128.  82. 133. 129. 117.\n",
      " 131.  97. 107. 144. 124.  98.  96. 139. 137. 140.  94. 138. 127. 153.\n",
      "  88.  86.  80.  75.  87.  89.  81.  93.  77.  83. 136.  85.  84. 152.\n",
      " 146.  78.  79.  59. 147. 154. 145.  73. 149.  68.  76. 151.  63.  69.\n",
      "  67.  74.  72.  65.  71.  70.  62.  64.  66. 168.  36. 157.  60.  nan\n",
      " 158. 148. 161.]\n",
      "The unique values AST_home are:  [25. 16. 22. 27. 26. 42. 23. 19. 29. 28. 24. 30. 20. 21. 38. 33. 17. 31.\n",
      " 34. 36. 32. 18. 15. 40. 14. 35. 39. 37. 41. 11. 12. 13. 10. 50. 43.  9.\n",
      "  8.  7.  6. 44. nan 45. 47.]\n",
      "The unique values PTS_away are:  [117. 112. 106.  93. 110. 113. 116. 104.  98. 120. 105. 126.  94.  91.\n",
      "  99. 101. 125. 124. 128. 121.  95. 109. 115. 111. 107.  97. 114. 122.\n",
      " 119. 108. 129. 141.  88. 103. 100.  87.  92. 136. 102. 118.  89. 123.\n",
      " 133.  81. 130. 135.  96.  85. 140. 127. 137. 143. 132. 131.  83. 145.\n",
      " 134.  82.  90.  86.  80.  79.  77. 139. 146.  78. 153. 150. 149. 142.\n",
      " 138. 157. 158.  75.  84.  74. 152. 154. 147. 144.  76.  69.  71.  70.\n",
      "  72.  66.  73.  62.  63.  68.  61.  58.  67.  65.  64.  56.  60.  57.\n",
      "  59. 151.  54.  33. 161.  nan 159. 168. 148.]\n",
      "The unique values AST_away are:  [23. 20. 15. 27. 32. 17. 19. 29. 25. 24. 22. 30. 26. 13. 31. 34. 21. 40.\n",
      " 18. 28. 16. 38. 36. 14. 12. 33. 35. 37. 39.  9. 41. 11.  8. 10.  7.  5.\n",
      "  6.  4. 42. 43. nan 46.]\n",
      "The unique values HOME_TEAM_WINS are:  [1 0]\n"
     ]
    }
   ],
   "source": [
    "list1 = matches_data.columns.to_list()\n",
    "remove_from_list = ['REB_home', 'REB_away']\n",
    "\n",
    "for i in range(len(remove_from_list)):\n",
    "    list1.remove(remove_from_list[i])\n",
    "    \n",
    "for i in list1:\n",
    "    print('The unique values', i, 'are: ', matches_data[i].unique())"
   ]
  },
  {
   "cell_type": "code",
   "execution_count": 7,
   "id": "9e880edf",
   "metadata": {},
   "outputs": [
    {
     "data": {
      "text/html": [
       "<div>\n",
       "<style scoped>\n",
       "    .dataframe tbody tr th:only-of-type {\n",
       "        vertical-align: middle;\n",
       "    }\n",
       "\n",
       "    .dataframe tbody tr th {\n",
       "        vertical-align: top;\n",
       "    }\n",
       "\n",
       "    .dataframe thead th {\n",
       "        text-align: right;\n",
       "    }\n",
       "</style>\n",
       "<table border=\"1\" class=\"dataframe\">\n",
       "  <thead>\n",
       "    <tr style=\"text-align: right;\">\n",
       "      <th></th>\n",
       "      <th>GAME_ID</th>\n",
       "      <th>SEASON</th>\n",
       "      <th>HOME_TEAM_WINS</th>\n",
       "    </tr>\n",
       "  </thead>\n",
       "  <tbody>\n",
       "    <tr>\n",
       "      <th>0</th>\n",
       "      <td>10300001</td>\n",
       "      <td>2003</td>\n",
       "      <td>1</td>\n",
       "    </tr>\n",
       "    <tr>\n",
       "      <th>1</th>\n",
       "      <td>10300002</td>\n",
       "      <td>2003</td>\n",
       "      <td>1</td>\n",
       "    </tr>\n",
       "    <tr>\n",
       "      <th>2</th>\n",
       "      <td>10300003</td>\n",
       "      <td>2003</td>\n",
       "      <td>0</td>\n",
       "    </tr>\n",
       "    <tr>\n",
       "      <th>3</th>\n",
       "      <td>10300004</td>\n",
       "      <td>2003</td>\n",
       "      <td>1</td>\n",
       "    </tr>\n",
       "    <tr>\n",
       "      <th>4</th>\n",
       "      <td>10300005</td>\n",
       "      <td>2003</td>\n",
       "      <td>1</td>\n",
       "    </tr>\n",
       "    <tr>\n",
       "      <th>...</th>\n",
       "      <td>...</td>\n",
       "      <td>...</td>\n",
       "      <td>...</td>\n",
       "    </tr>\n",
       "    <tr>\n",
       "      <th>26617</th>\n",
       "      <td>52100111</td>\n",
       "      <td>2021</td>\n",
       "      <td>1</td>\n",
       "    </tr>\n",
       "    <tr>\n",
       "      <th>26618</th>\n",
       "      <td>52100121</td>\n",
       "      <td>2021</td>\n",
       "      <td>1</td>\n",
       "    </tr>\n",
       "    <tr>\n",
       "      <th>26619</th>\n",
       "      <td>52100131</td>\n",
       "      <td>2021</td>\n",
       "      <td>1</td>\n",
       "    </tr>\n",
       "    <tr>\n",
       "      <th>26620</th>\n",
       "      <td>52100201</td>\n",
       "      <td>2021</td>\n",
       "      <td>0</td>\n",
       "    </tr>\n",
       "    <tr>\n",
       "      <th>26621</th>\n",
       "      <td>52100211</td>\n",
       "      <td>2021</td>\n",
       "      <td>0</td>\n",
       "    </tr>\n",
       "  </tbody>\n",
       "</table>\n",
       "<p>26622 rows × 3 columns</p>\n",
       "</div>"
      ],
      "text/plain": [
       "        GAME_ID  SEASON  HOME_TEAM_WINS\n",
       "0      10300001    2003               1\n",
       "1      10300002    2003               1\n",
       "2      10300003    2003               0\n",
       "3      10300004    2003               1\n",
       "4      10300005    2003               1\n",
       "...         ...     ...             ...\n",
       "26617  52100111    2021               1\n",
       "26618  52100121    2021               1\n",
       "26619  52100131    2021               1\n",
       "26620  52100201    2021               0\n",
       "26621  52100211    2021               0\n",
       "\n",
       "[26622 rows x 3 columns]"
      ]
     },
     "execution_count": 7,
     "metadata": {},
     "output_type": "execute_result"
    }
   ],
   "source": [
    "win_df=matches_data.groupby(['GAME_ID','SEASON']).sum()['HOME_TEAM_WINS'].reset_index()\n",
    "\n",
    "win_df"
   ]
  },
  {
   "cell_type": "code",
   "execution_count": 8,
   "id": "6a96eb35",
   "metadata": {},
   "outputs": [
    {
     "name": "stderr",
     "output_type": "stream",
     "text": [
      "<ipython-input-8-2ee73ae2e93d>:2: SettingWithCopyWarning: \n",
      "A value is trying to be set on a copy of a slice from a DataFrame.\n",
      "Try using .loc[row_indexer,col_indexer] = value instead\n",
      "\n",
      "See the caveats in the documentation: https://pandas.pydata.org/pandas-docs/stable/user_guide/indexing.html#returning-a-view-versus-a-copy\n",
      "  win_df['SEASON'] = win_df['SEASON'].apply(lambda x:x+1)#to get target\n"
     ]
    },
    {
     "data": {
      "text/html": [
       "<div>\n",
       "<style scoped>\n",
       "    .dataframe tbody tr th:only-of-type {\n",
       "        vertical-align: middle;\n",
       "    }\n",
       "\n",
       "    .dataframe tbody tr th {\n",
       "        vertical-align: top;\n",
       "    }\n",
       "\n",
       "    .dataframe thead th {\n",
       "        text-align: right;\n",
       "    }\n",
       "</style>\n",
       "<table border=\"1\" class=\"dataframe\">\n",
       "  <thead>\n",
       "    <tr style=\"text-align: right;\">\n",
       "      <th></th>\n",
       "      <th>GAME_ID</th>\n",
       "      <th>SEASON</th>\n",
       "      <th>HOME_TEAM_WINS</th>\n",
       "    </tr>\n",
       "  </thead>\n",
       "  <tbody>\n",
       "    <tr>\n",
       "      <th>0</th>\n",
       "      <td>10300001</td>\n",
       "      <td>2004</td>\n",
       "      <td>1</td>\n",
       "    </tr>\n",
       "    <tr>\n",
       "      <th>1</th>\n",
       "      <td>10300002</td>\n",
       "      <td>2004</td>\n",
       "      <td>1</td>\n",
       "    </tr>\n",
       "    <tr>\n",
       "      <th>3</th>\n",
       "      <td>10300004</td>\n",
       "      <td>2004</td>\n",
       "      <td>1</td>\n",
       "    </tr>\n",
       "    <tr>\n",
       "      <th>4</th>\n",
       "      <td>10300005</td>\n",
       "      <td>2004</td>\n",
       "      <td>1</td>\n",
       "    </tr>\n",
       "    <tr>\n",
       "      <th>6</th>\n",
       "      <td>10300007</td>\n",
       "      <td>2004</td>\n",
       "      <td>1</td>\n",
       "    </tr>\n",
       "    <tr>\n",
       "      <th>...</th>\n",
       "      <td>...</td>\n",
       "      <td>...</td>\n",
       "      <td>...</td>\n",
       "    </tr>\n",
       "    <tr>\n",
       "      <th>26614</th>\n",
       "      <td>52000201</td>\n",
       "      <td>2021</td>\n",
       "      <td>1</td>\n",
       "    </tr>\n",
       "    <tr>\n",
       "      <th>26616</th>\n",
       "      <td>52100101</td>\n",
       "      <td>2022</td>\n",
       "      <td>1</td>\n",
       "    </tr>\n",
       "    <tr>\n",
       "      <th>26617</th>\n",
       "      <td>52100111</td>\n",
       "      <td>2022</td>\n",
       "      <td>1</td>\n",
       "    </tr>\n",
       "    <tr>\n",
       "      <th>26618</th>\n",
       "      <td>52100121</td>\n",
       "      <td>2022</td>\n",
       "      <td>1</td>\n",
       "    </tr>\n",
       "    <tr>\n",
       "      <th>26619</th>\n",
       "      <td>52100131</td>\n",
       "      <td>2022</td>\n",
       "      <td>1</td>\n",
       "    </tr>\n",
       "  </tbody>\n",
       "</table>\n",
       "<p>15611 rows × 3 columns</p>\n",
       "</div>"
      ],
      "text/plain": [
       "        GAME_ID  SEASON  HOME_TEAM_WINS\n",
       "0      10300001    2004               1\n",
       "1      10300002    2004               1\n",
       "3      10300004    2004               1\n",
       "4      10300005    2004               1\n",
       "6      10300007    2004               1\n",
       "...         ...     ...             ...\n",
       "26614  52000201    2021               1\n",
       "26616  52100101    2022               1\n",
       "26617  52100111    2022               1\n",
       "26618  52100121    2022               1\n",
       "26619  52100131    2022               1\n",
       "\n",
       "[15611 rows x 3 columns]"
      ]
     },
     "execution_count": 8,
     "metadata": {},
     "output_type": "execute_result"
    }
   ],
   "source": [
    "win_df = win_df[win_df['HOME_TEAM_WINS']==1]\n",
    "win_df['SEASON'] = win_df['SEASON'].apply(lambda x:x+1)#to get target\n",
    "win_df"
   ]
  },
  {
   "cell_type": "code",
   "execution_count": 9,
   "id": "212e9428",
   "metadata": {},
   "outputs": [
    {
     "data": {
      "text/html": [
       "<div>\n",
       "<style scoped>\n",
       "    .dataframe tbody tr th:only-of-type {\n",
       "        vertical-align: middle;\n",
       "    }\n",
       "\n",
       "    .dataframe tbody tr th {\n",
       "        vertical-align: top;\n",
       "    }\n",
       "\n",
       "    .dataframe thead th {\n",
       "        text-align: right;\n",
       "    }\n",
       "</style>\n",
       "<table border=\"1\" class=\"dataframe\">\n",
       "  <thead>\n",
       "    <tr style=\"text-align: right;\">\n",
       "      <th></th>\n",
       "      <th>GAME_ID_x</th>\n",
       "      <th>HOME_TEAM_ID</th>\n",
       "      <th>VISITOR_TEAM_ID</th>\n",
       "      <th>SEASON</th>\n",
       "      <th>PTS_home</th>\n",
       "      <th>AST_home</th>\n",
       "      <th>REB_home</th>\n",
       "      <th>PTS_away</th>\n",
       "      <th>AST_away</th>\n",
       "      <th>REB_away</th>\n",
       "      <th>HOME_TEAM_WINS_x</th>\n",
       "      <th>GAME_ID_y</th>\n",
       "      <th>HOME_TEAM_WINS_y</th>\n",
       "    </tr>\n",
       "  </thead>\n",
       "  <tbody>\n",
       "  </tbody>\n",
       "</table>\n",
       "</div>"
      ],
      "text/plain": [
       "Empty DataFrame\n",
       "Columns: [GAME_ID_x, HOME_TEAM_ID, VISITOR_TEAM_ID, SEASON, PTS_home, AST_home, REB_home, PTS_away, AST_away, REB_away, HOME_TEAM_WINS_x, GAME_ID_y, HOME_TEAM_WINS_y]\n",
       "Index: []"
      ]
     },
     "execution_count": 9,
     "metadata": {},
     "output_type": "execute_result"
    }
   ],
   "source": [
    "match_df = matches_data.merge(win_df[['GAME_ID','HOME_TEAM_WINS']],\n",
    "                       left_on='HOME_TEAM_ID',right_on='GAME_ID')\n",
    "\n",
    "match_df"
   ]
  },
  {
   "cell_type": "code",
   "execution_count": 10,
   "id": "fc4e9148",
   "metadata": {},
   "outputs": [
    {
     "data": {
      "text/plain": [
       "array([], dtype=int64)"
      ]
     },
     "execution_count": 10,
     "metadata": {},
     "output_type": "execute_result"
    }
   ],
   "source": [
    "match_df['HOME_TEAM_ID'].unique()"
   ]
  },
  {
   "cell_type": "code",
   "execution_count": 11,
   "id": "26751de2",
   "metadata": {},
   "outputs": [
    {
     "data": {
      "text/html": [
       "<div>\n",
       "<style scoped>\n",
       "    .dataframe tbody tr th:only-of-type {\n",
       "        vertical-align: middle;\n",
       "    }\n",
       "\n",
       "    .dataframe tbody tr th {\n",
       "        vertical-align: top;\n",
       "    }\n",
       "\n",
       "    .dataframe thead th {\n",
       "        text-align: right;\n",
       "    }\n",
       "</style>\n",
       "<table border=\"1\" class=\"dataframe\">\n",
       "  <thead>\n",
       "    <tr style=\"text-align: right;\">\n",
       "      <th></th>\n",
       "      <th>GAME_ID_x</th>\n",
       "      <th>HOME_TEAM_ID</th>\n",
       "      <th>VISITOR_TEAM_ID</th>\n",
       "      <th>SEASON</th>\n",
       "      <th>PTS_home</th>\n",
       "      <th>AST_home</th>\n",
       "      <th>REB_home</th>\n",
       "      <th>PTS_away</th>\n",
       "      <th>AST_away</th>\n",
       "      <th>REB_away</th>\n",
       "      <th>HOME_TEAM_WINS_x</th>\n",
       "      <th>GAME_ID_y</th>\n",
       "      <th>HOME_TEAM_WINS_y</th>\n",
       "    </tr>\n",
       "  </thead>\n",
       "  <tbody>\n",
       "  </tbody>\n",
       "</table>\n",
       "</div>"
      ],
      "text/plain": [
       "Empty DataFrame\n",
       "Columns: [GAME_ID_x, HOME_TEAM_ID, VISITOR_TEAM_ID, SEASON, PTS_home, AST_home, REB_home, PTS_away, AST_away, REB_away, HOME_TEAM_WINS_x, GAME_ID_y, HOME_TEAM_WINS_y]\n",
       "Index: []"
      ]
     },
     "execution_count": 11,
     "metadata": {},
     "output_type": "execute_result"
    }
   ],
   "source": [
    "match_df[match_df['AST_home']==1].style.background_gradient(cmap = 'plasma')\n",
    "match_df"
   ]
  },
  {
   "cell_type": "code",
   "execution_count": 12,
   "id": "0f49adb9",
   "metadata": {},
   "outputs": [
    {
     "data": {
      "text/plain": [
       "GAME_ID_x           0.0\n",
       "HOME_TEAM_ID        0.0\n",
       "VISITOR_TEAM_ID     0.0\n",
       "SEASON              0.0\n",
       "PTS_home            0.0\n",
       "AST_home            0.0\n",
       "REB_home            0.0\n",
       "PTS_away            0.0\n",
       "AST_away            0.0\n",
       "REB_away            0.0\n",
       "HOME_TEAM_WINS_x    0.0\n",
       "GAME_ID_y           0.0\n",
       "HOME_TEAM_WINS_y    0.0\n",
       "dtype: float64"
      ]
     },
     "execution_count": 12,
     "metadata": {},
     "output_type": "execute_result"
    }
   ],
   "source": [
    "match_df = match_df.dropna()\n",
    "\n",
    "match_df.isnull().sum()"
   ]
  },
  {
   "cell_type": "code",
   "execution_count": 13,
   "id": "b70f309f",
   "metadata": {},
   "outputs": [
    {
     "data": {
      "text/plain": [
       "Index(['GAME_ID', 'HOME_TEAM_ID', 'VISITOR_TEAM_ID', 'SEASON', 'PTS_home',\n",
       "       'AST_home', 'REB_home', 'PTS_away', 'AST_away', 'REB_away'],\n",
       "      dtype='object')"
      ]
     },
     "execution_count": 13,
     "metadata": {},
     "output_type": "execute_result"
    }
   ],
   "source": [
    "data = match_df.copy()\n",
    "\n",
    "from sklearn.model_selection import train_test_split\n",
    "X = matches_data.drop(['HOME_TEAM_WINS'], axis=1)\n",
    "y = matches_data['HOME_TEAM_WINS']\n",
    "X_train, X_test, y_train, y_test = train_test_split(X, y, test_size=0.2, random_state=42)\n",
    "\n",
    "\n",
    "X_train.shape,X_test.shape\n",
    "X_train.columns"
   ]
  },
  {
   "cell_type": "code",
   "execution_count": 14,
   "id": "910dd59a",
   "metadata": {},
   "outputs": [],
   "source": [
    "cf = ColumnTransformer(transformers = [\n",
    "    ('tnf1',OneHotEncoder(sparse=False,drop='first'),['HOME_TEAM_ID','VISITOR_TEAM_ID','SEASON'])\n",
    "],remainder='passthrough')"
   ]
  },
  {
   "cell_type": "code",
   "execution_count": 15,
   "id": "abf4307c",
   "metadata": {},
   "outputs": [
    {
     "name": "stdout",
     "output_type": "stream",
     "text": [
      "0.5871318701932096\n"
     ]
    },
    {
     "data": {
      "text/plain": [
       "array([0.41364844, 0.58635156])"
      ]
     },
     "execution_count": 15,
     "metadata": {},
     "output_type": "execute_result"
    }
   ],
   "source": [
    "from sklearn.pipeline import Pipeline\n",
    "from sklearn.impute import SimpleImputer\n",
    "from sklearn.linear_model import LogisticRegression\n",
    "\n",
    "# Create a pipeline with a SimpleImputer and a LogisticRegression classifier\n",
    "pipeline = Pipeline([\n",
    "    ('imputer', SimpleImputer(strategy='mean')),\n",
    "    ('classifier', LogisticRegression())\n",
    "])\n",
    "\n",
    "# Fit the pipeline to your data\n",
    "pipeline.fit(X_train, y_train)\n",
    "\n",
    "# Make predictions using the trained pipeline\n",
    "y_pred = pipeline.predict(X_test)\n",
    "print(metrics.accuracy_score(y_test,y_pred))\n",
    "\n",
    "pipeline.predict_proba(X_test)[10]"
   ]
  },
  {
   "cell_type": "code",
   "execution_count": 16,
   "id": "a1a4ca5b",
   "metadata": {},
   "outputs": [
    {
     "name": "stdout",
     "output_type": "stream",
     "text": [
      "0.9968111048583755\n"
     ]
    },
    {
     "data": {
      "text/plain": [
       "array([1., 0.])"
      ]
     },
     "execution_count": 16,
     "metadata": {},
     "output_type": "execute_result"
    }
   ],
   "source": [
    "from sklearn.pipeline import Pipeline\n",
    "from sklearn.impute import SimpleImputer\n",
    "from sklearn.ensemble import RandomForestClassifier\n",
    "\n",
    "\n",
    "pipeline2 = Pipeline([\n",
    "    ('imputer', SimpleImputer(strategy='mean')),\n",
    "    ('classifier', RandomForestClassifier())\n",
    "])\n",
    "\n",
    "pipeline2.fit(X_train,y_train)\n",
    "y_pred = pipeline2.predict(X_test)\n",
    "print(metrics.accuracy_score(y_test,pipeline2.predict(X_test)))\n",
    "\n",
    "pipeline2.predict_proba(X_test)[10]\n",
    "\n"
   ]
  },
  {
   "cell_type": "code",
   "execution_count": 17,
   "id": "05084be3",
   "metadata": {},
   "outputs": [],
   "source": [
    "import pickle\n",
    "pickle.dump(pipeline, open('pipeline.pkl', 'wb'))"
   ]
  },
  {
   "cell_type": "code",
   "execution_count": 20,
   "id": "bd436472",
   "metadata": {},
   "outputs": [],
   "source": [
    "def predict_game(team_home, team_away, model):\n",
    "    # Load team and opponent statistics\n",
    "    home_stats = load_team_stats(team_home)\n",
    "    away_stats = load_team_stats(team_away)\n",
    "\n",
    "    # Combine team and opponent statistics\n",
    "    X = np.hstack((home_stats, away_stats))\n",
    "\n",
    "    # Make a prediction using the loaded model\n",
    "    y_pred = model.predict(X)\n",
    "\n",
    "    # Calculate the predicted score for the home team\n",
    "    PTS_home = round(y_pred[0])\n",
    "\n",
    "    # Return the predicted score for the home team\n",
    "    return PTS_home"
   ]
  },
  {
   "cell_type": "code",
   "execution_count": 23,
   "id": "4eabd670",
   "metadata": {},
   "outputs": [],
   "source": [
    "import streamlit as st\n",
    "import pandas as pd\n",
    "import pickle\n",
    "from sklearn.compose import ColumnTransformer\n",
    "from sklearn.preprocessing import OneHotEncoder\n",
    "\n",
    "# Declaring the teams\n",
    "\n",
    "teams = ['Atlanta Hawks','Boston Celtics','Brooklyn Nets','Charlotte Hornets',\n",
    "         'Chicago Bulls','Cleveland Cavaliers','Dallas Mavericks','Denver Nuggets',\n",
    "         'Detroit Pistons','Golden State Warriors','Houston Rockets','Indiana Pacers',\n",
    "         'Los Angeles Clippers','Los Angeles Lakers','Memphis Grizzlies','Miami Heat',\n",
    "         'Milwaukee Bucks','Minnesota Timberwolves','New Orleans Pelicans',\n",
    "         'New York Knicks','Oklahoma City Thunder','Orlando Magic','Philadelphia 76ers',\n",
    "         'Phoenix Suns','Portland Trail Blazers','Sacramento Kings','San Antonio Spurs',\n",
    "         'Toronto Raptors','Utah Jazz','Washington Wizards']\n",
    "\n",
    "# declaring the venues where the matches are going to take place\n",
    "\n",
    "season = ['2003','2004','2005','2006','2007','2008','2009','2010','2011','2012',\n",
    "'2013','2014','2015','2016','2017','2018','2019','2020','2021','2022','2023']\n",
    "\n",
    "\n",
    "# Loading our machine learning model from a saved pickle file\n",
    "\n",
    "pipeline = pickle.load(open('pipeline.pkl', 'rb')) #remember all folders including pipe.pkl,\n",
    "# notebook, datasets exist in the same directory\n",
    "\n",
    "# Setting up the app's title\n",
    "\n",
    "st.title('NBA Match Predictor')\n",
    "\n",
    "\n",
    "# Setting up the layout with two columns\n",
    "col1, col2 = st.columns(2)\n",
    "\n",
    "# Creating a dropdown selector for the batting team\n",
    "with col1:\n",
    "    hometeam = st.selectbox('Select the home team', sorted(teams))\n",
    "\n",
    "# Creating a dropdown selector for the bowling team\n",
    "with col2:\n",
    "\n",
    "    visitorteam = st.selectbox('Select the visitor team', sorted(teams))\n",
    "\n",
    "\n",
    "# Creating a dropdown selector for the city where the match is being played\n",
    "season = st.selectbox(\n",
    "    'Select the season', sorted(season))\n",
    "\n",
    "# Creating a numeric input for the target score using number_input method in streamlit\n",
    "target = int(st.number_input('Target', step=1))\n",
    "\n",
    "# Setting up the layout with three columns\n",
    "col3, col4, col5 = st.columns(3)\n",
    "\n",
    "# Creating a numeric input for the current score\n",
    "with col3:\n",
    "    win = int(st.number_input('win', step=1))\n",
    "PTS_home = round(y_pred[0])\n",
    "# Checking for different match results based on the input provided\n",
    "if PTS_home > target:\n",
    "    st.write(hometeam,\"won the match\")\n",
    "    \n",
    "elif PTS_home == target-1 and overs==20:\n",
    "    st.write(\"Match Drawn\")\n",
    "    \n",
    "    \n",
    "st.write('To proceed, please select different teams because no match can be played \\\n",
    "without two different teams.')\n",
    "\n",
    "try:\n",
    "\n",
    "    if st.button('Predict Probability'):\n",
    "                \n",
    "                               \n",
    "                # Creating a pandas DataFrame containing the user inputs\n",
    "                input_df = pd.DataFrame(\n",
    "                               {'home_team': [hometeam], \n",
    "                                'visitor_team': [visitorteam], \n",
    "                                'season': [season], \n",
    "                                })\n",
    "                # Loading the trained machine learning pipeline to make the prediction\n",
    "                result = pipe.predict_proba(input_df)\n",
    "                \n",
    "                # Extracting the likelihood of loss and win\n",
    "                lossprob = result[0][0]\n",
    "                winprob = result[0][1]\n",
    "                \n",
    "                # Displaying the predicted likelihood of winning and losing in percentage\n",
    "\n",
    "                st.header(hometeam+\"- \"+str(round(winprob*100))+\"%\")\n",
    "\n",
    "                st.header(visitorteam+\"- \"+str(round(lossprob*100))+\"%\")\n",
    "                \n",
    "                \n",
    "        #Catching ZeroDivisionError         \n",
    "except ZeroDivisionError:\n",
    "    st.error(\"Please fill all the details\")\n",
    "            \n",
    "    #Displaying an error message if the input is incorrect        \n",
    "else:\n",
    "    st.error('There is something wrong with the input, please fill the correct details')"
   ]
  },
  {
   "cell_type": "code",
   "execution_count": null,
   "id": "3ffc1552",
   "metadata": {},
   "outputs": [],
   "source": [
    "pip freeze > requirements.txt"
   ]
  },
  {
   "cell_type": "code",
   "execution_count": null,
   "id": "77032086",
   "metadata": {},
   "outputs": [],
   "source": []
  }
 ],
 "metadata": {
  "kernelspec": {
   "display_name": "Python 3",
   "language": "python",
   "name": "python3"
  },
  "language_info": {
   "codemirror_mode": {
    "name": "ipython",
    "version": 3
   },
   "file_extension": ".py",
   "mimetype": "text/x-python",
   "name": "python",
   "nbconvert_exporter": "python",
   "pygments_lexer": "ipython3",
   "version": "3.8.8"
  }
 },
 "nbformat": 4,
 "nbformat_minor": 5
}
